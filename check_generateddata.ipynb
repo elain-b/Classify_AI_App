{
 "cells": [
  {
   "cell_type": "code",
   "execution_count": 6,
   "metadata": {},
   "outputs": [],
   "source": [
    "from PIL import Image\n",
    "import os, glob\n",
    "import numpy as np\n",
    "from sklearn import model_selection\n",
    "\n",
    "classes = [\"monkey\", \"boar\", \"crow\"]\n",
    "num_classes = len(classes)\n",
    "image_size = 50\n",
    "\n",
    "# 画像の読み込み\n",
    "\n",
    "X = []\n",
    "Y = []\n",
    "for index, classlabel in enumerate(classes):\n",
    "    photos_dir = \"./\" + classlabel\n",
    "    files = glob.glob(photos_dir + \"/*.jpg\")\n",
    "    for i, file in enumerate(files):\n",
    "        if i >= 200: break\n",
    "        image = Image.open(file)\n",
    "        image = image.convert(\"RGB\")\n",
    "        image = image.resize((image_size, image_size))\n",
    "        data = np.asarray(image)\n",
    "        X.append(data)\n",
    "        Y.append(index)\n",
    "\n",
    "X = np.array(X)\n",
    "Y = np.array(Y)"
   ]
  },
  {
   "cell_type": "code",
   "execution_count": 7,
   "metadata": {},
   "outputs": [
    {
     "data": {
      "text/plain": [
       "array([[[ 44,  92,  34],\n",
       "        [ 35,  81,   8],\n",
       "        [ 40,  80,  17],\n",
       "        ...,\n",
       "        [ 27,  50,  22],\n",
       "        [ 23,  46,  26],\n",
       "        [ 21,  42,  35]],\n",
       "\n",
       "       [[ 47,  90,  36],\n",
       "        [ 44,  85,  25],\n",
       "        [ 49,  87,  38],\n",
       "        ...,\n",
       "        [ 27,  50,  34],\n",
       "        [ 25,  46,  39],\n",
       "        [ 22,  43,  46]],\n",
       "\n",
       "       [[ 54,  93,  48],\n",
       "        [ 49,  89,  37],\n",
       "        [ 70, 108,  61],\n",
       "        ...,\n",
       "        [ 24,  47,  41],\n",
       "        [ 25,  44,  48],\n",
       "        [ 22,  45,  53]],\n",
       "\n",
       "       ...,\n",
       "\n",
       "       [[161, 156,  65],\n",
       "        [151, 143,  62],\n",
       "        [143, 133,  62],\n",
       "        ...,\n",
       "        [157, 149, 160],\n",
       "        [160, 150, 158],\n",
       "        [170, 155, 158]],\n",
       "\n",
       "       [[166, 166,  70],\n",
       "        [159, 155,  68],\n",
       "        [153, 145,  72],\n",
       "        ...,\n",
       "        [160, 154, 164],\n",
       "        [138, 131, 138],\n",
       "        [145, 135, 136]],\n",
       "\n",
       "       [[175, 177,  80],\n",
       "        [172, 172,  82],\n",
       "        [169, 168,  86],\n",
       "        ...,\n",
       "        [150, 144, 154],\n",
       "        [154, 144, 152],\n",
       "        [120, 105, 108]]], dtype=uint8)"
      ]
     },
     "execution_count": 7,
     "metadata": {},
     "output_type": "execute_result"
    }
   ],
   "source": [
    "X[0]"
   ]
  },
  {
   "cell_type": "code",
   "execution_count": 13,
   "metadata": {},
   "outputs": [
    {
     "data": {
      "text/plain": [
       "523"
      ]
     },
     "execution_count": 13,
     "metadata": {},
     "output_type": "execute_result"
    }
   ],
   "source": [
    "len(X)"
   ]
  },
  {
   "cell_type": "code",
   "execution_count": 14,
   "metadata": {},
   "outputs": [
    {
     "data": {
      "text/plain": [
       "0"
      ]
     },
     "execution_count": 14,
     "metadata": {},
     "output_type": "execute_result"
    }
   ],
   "source": [
    "Y[100]"
   ]
  },
  {
   "cell_type": "code",
   "execution_count": 15,
   "metadata": {},
   "outputs": [
    {
     "data": {
      "text/plain": [
       "1"
      ]
     },
     "execution_count": 15,
     "metadata": {},
     "output_type": "execute_result"
    }
   ],
   "source": [
    "Y[200]"
   ]
  },
  {
   "cell_type": "code",
   "execution_count": 16,
   "metadata": {},
   "outputs": [
    {
     "data": {
      "text/plain": [
       "2"
      ]
     },
     "execution_count": 16,
     "metadata": {},
     "output_type": "execute_result"
    }
   ],
   "source": [
    "Y[450]"
   ]
  },
  {
   "cell_type": "code",
   "execution_count": 8,
   "metadata": {},
   "outputs": [],
   "source": [
    "X_train, X_test, y_train, y_test = model_selection.train_test_split(X, Y)\n",
    "xy = (X_train, X_test, y_train, y_test)\n",
    "# np.save(\"./animal.npy\", xy)"
   ]
  },
  {
   "cell_type": "code",
   "execution_count": 9,
   "metadata": {},
   "outputs": [
    {
     "data": {
      "text/plain": [
       "392"
      ]
     },
     "execution_count": 9,
     "metadata": {},
     "output_type": "execute_result"
    }
   ],
   "source": [
    "len(X_train)"
   ]
  },
  {
   "cell_type": "code",
   "execution_count": 4,
   "metadata": {},
   "outputs": [
    {
     "data": {
      "text/plain": [
       "131"
      ]
     },
     "execution_count": 4,
     "metadata": {},
     "output_type": "execute_result"
    }
   ],
   "source": [
    "len(X_test)"
   ]
  },
  {
   "cell_type": "code",
   "execution_count": 5,
   "metadata": {},
   "outputs": [
    {
     "data": {
      "text/plain": [
       "392"
      ]
     },
     "execution_count": 5,
     "metadata": {},
     "output_type": "execute_result"
    }
   ],
   "source": [
    "len(y_train)"
   ]
  },
  {
   "cell_type": "code",
   "execution_count": 6,
   "metadata": {},
   "outputs": [
    {
     "data": {
      "text/plain": [
       "131"
      ]
     },
     "execution_count": 6,
     "metadata": {},
     "output_type": "execute_result"
    }
   ],
   "source": [
    "len(y_test)"
   ]
  },
  {
   "cell_type": "code",
   "execution_count": 7,
   "metadata": {},
   "outputs": [
    {
     "data": {
      "text/plain": [
       "array([[[106,  98,  79],\n",
       "        [141, 124,  96],\n",
       "        [186, 172, 145],\n",
       "        ...,\n",
       "        [172, 143, 109],\n",
       "        [103,  80,  46],\n",
       "        [160, 136, 102]],\n",
       "\n",
       "       [[200, 195, 165],\n",
       "        [176, 161, 128],\n",
       "        [171, 161, 134],\n",
       "        ...,\n",
       "        [ 94,  81,  64],\n",
       "        [173, 150, 119],\n",
       "        [170, 147, 116]],\n",
       "\n",
       "       [[116, 104,  66],\n",
       "        [163, 143, 108],\n",
       "        [139, 124, 101],\n",
       "        ...,\n",
       "        [ 88,  73,  50],\n",
       "        [190, 169, 140],\n",
       "        [139, 118,  89]],\n",
       "\n",
       "       ...,\n",
       "\n",
       "       [[ 68,  62,  48],\n",
       "        [ 86,  82,  70],\n",
       "        [ 36,  33,  18],\n",
       "        ...,\n",
       "        [164, 169, 137],\n",
       "        [161, 172, 140],\n",
       "        [110, 123,  95]],\n",
       "\n",
       "       [[ 83,  73,  61],\n",
       "        [ 42,  36,  24],\n",
       "        [ 63,  55,  44],\n",
       "        ...,\n",
       "        [139, 139, 113],\n",
       "        [104, 109,  86],\n",
       "        [124, 129, 106]],\n",
       "\n",
       "       [[ 72,  63,  48],\n",
       "        [ 78,  72,  58],\n",
       "        [ 94,  86,  73],\n",
       "        ...,\n",
       "        [166, 163, 122],\n",
       "        [142, 148, 122],\n",
       "        [119, 125,  99]]], dtype=uint8)"
      ]
     },
     "execution_count": 7,
     "metadata": {},
     "output_type": "execute_result"
    }
   ],
   "source": [
    "X_train[100]"
   ]
  },
  {
   "cell_type": "code",
   "execution_count": null,
   "metadata": {},
   "outputs": [],
   "source": []
  }
 ],
 "metadata": {
  "kernelspec": {
   "display_name": "Python 3",
   "language": "python",
   "name": "python3"
  },
  "language_info": {
   "codemirror_mode": {
    "name": "ipython",
    "version": 3
   },
   "file_extension": ".py",
   "mimetype": "text/x-python",
   "name": "python",
   "nbconvert_exporter": "python",
   "pygments_lexer": "ipython3",
   "version": "3.6.8"
  }
 },
 "nbformat": 4,
 "nbformat_minor": 4
}
